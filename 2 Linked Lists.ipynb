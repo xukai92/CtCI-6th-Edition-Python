{
 "cells": [
  {
   "cell_type": "code",
   "execution_count": 36,
   "metadata": {
    "collapsed": true
   },
   "outputs": [],
   "source": [
    "class Node:\n",
    "    def __init__(self, item, next=None, prev=None):\n",
    "        self.item = item\n",
    "        self.next = next\n",
    "        self.prev = prev\n",
    "\n",
    "class LinkedList:\n",
    "    def __init__(self, head=None):\n",
    "        self.head = head\n",
    "        \n",
    "    def length(self):\n",
    "        length = 0\n",
    "        curr = self.head\n",
    "        while curr != None:\n",
    "            curr = curr.next\n",
    "            length += 1\n",
    "        return length\n",
    "    \n",
    "    def __str__(self):\n",
    "        ll_str = \"\"\n",
    "        curr = self.head\n",
    "        while curr != None:\n",
    "            ll_str += str(curr.item) + \" -> \"\n",
    "            curr = curr.next\n",
    "        return ll_str + \"None\""
   ]
  },
  {
   "cell_type": "markdown",
   "metadata": {},
   "source": [
    "**2.1 Remove Dups:** Write code to remove duplicates from an unsorted linked list.\n",
    "\n",
    "FOLLOW UP\n",
    "\n",
    "How would you solve this problem if a temporary buffer is not allowed?"
   ]
  },
  {
   "cell_type": "code",
   "execution_count": 37,
   "metadata": {
    "collapsed": true
   },
   "outputs": [],
   "source": [
    "def remove_dups(ll):\n",
    "    item_set = set()\n",
    "    prev = ll.head\n",
    "    item_set.add(prev.item)\n",
    "    \n",
    "    curr = prev.next\n",
    "    while curr != None:\n",
    "        if curr.item in item_set:\n",
    "            prev.next = curr.next\n",
    "        else:\n",
    "            item_set.add(curr.item)\n",
    "            prev = curr\n",
    "        curr = curr.next"
   ]
  },
  {
   "cell_type": "code",
   "execution_count": 38,
   "metadata": {
    "collapsed": true
   },
   "outputs": [],
   "source": [
    "def remove_dups(ll):\n",
    "    outer = ll.head\n",
    "    while outer != None:\n",
    "        inner = outer\n",
    "        while inner.next != None:\n",
    "            if inner.next.item == outer.item:\n",
    "                inner.next = inner.next.next\n",
    "            inner = inner.next\n",
    "            if inner == None:\n",
    "                break\n",
    "        outer = outer.next"
   ]
  },
  {
   "cell_type": "code",
   "execution_count": 39,
   "metadata": {
    "collapsed": false
   },
   "outputs": [],
   "source": [
    "node1 = Node(3)\n",
    "node2 = Node(3)\n",
    "node3 = Node(1)\n",
    "node4 = Node(2)\n",
    "node5 = Node(2)\n",
    "node6 = Node(1)\n",
    "node1.next = node2\n",
    "node2.next = node3\n",
    "node3.next = node4\n",
    "node4.next = node5\n",
    "node5.next = node6\n",
    "ll = LinkedList(node1)\n",
    "\n",
    "remove_dups(ll)\n",
    "\n",
    "assert ll.length() == 3"
   ]
  },
  {
   "cell_type": "markdown",
   "metadata": {},
   "source": [
    "**2.2 Return Kth to Last:** Implement an algorithm to find the kth to last element of a singly linked list."
   ]
  },
  {
   "cell_type": "code",
   "execution_count": 51,
   "metadata": {
    "collapsed": false
   },
   "outputs": [],
   "source": [
    "def return_last_kth(ll, k):\n",
    "    slow = ll.head\n",
    "    fast = slow\n",
    "    \n",
    "    for _ in range(k):\n",
    "        try:\n",
    "            fast = fast.next\n",
    "        except:\n",
    "            print \"[return_kth] linked list is shorter than {k}\".format(k=k)\n",
    "            \n",
    "    while fast != None:\n",
    "        slow = slow.next\n",
    "        fast = fast.next\n",
    "        \n",
    "    return slow.item"
   ]
  },
  {
   "cell_type": "code",
   "execution_count": 52,
   "metadata": {
    "collapsed": false
   },
   "outputs": [],
   "source": [
    "node1 = Node(3)\n",
    "node2 = Node(3)\n",
    "node3 = Node(1)\n",
    "node4 = Node(2)\n",
    "node5 = Node(2)\n",
    "node6 = Node(1)\n",
    "node1.next = node2\n",
    "node2.next = node3\n",
    "node3.next = node4\n",
    "node4.next = node5\n",
    "node5.next = node6\n",
    "ll = LinkedList(node1)\n",
    "\n",
    "assert return_last_kth(ll, 3) == 2\n",
    "assert return_last_kth(ll, 1) == 1"
   ]
  },
  {
   "cell_type": "markdown",
   "metadata": {
    "collapsed": true
   },
   "source": [
    "**2.3 Delete Middle Node:** Implement an algorithm to delete a node in the middle (i.e. any node but the first and last node, not necessarily the exact middle) of a singly linked list, given only access to that node."
   ]
  },
  {
   "cell_type": "code",
   "execution_count": 60,
   "metadata": {
    "collapsed": false
   },
   "outputs": [],
   "source": [
    "def delete_middle(ll):\n",
    "    slow = ll.head\n",
    "    fast = slow\n",
    "    if slow == None:\n",
    "        return\n",
    "    if slow.next == None:\n",
    "        ll.head = None\n",
    "        return\n",
    "    \n",
    "    while fast != None:\n",
    "        slow = slow.next\n",
    "        fast = fast.next\n",
    "        if fast != None:\n",
    "            fast = fast.next\n",
    "            \n",
    "    slow.next = slow.next.next"
   ]
  },
  {
   "cell_type": "code",
   "execution_count": 63,
   "metadata": {
    "collapsed": false
   },
   "outputs": [],
   "source": [
    "node1 = Node(3)\n",
    "node2 = Node(3)\n",
    "node3 = Node(1)\n",
    "node4 = Node(2)\n",
    "node5 = Node(2)\n",
    "node6 = Node(1)\n",
    "node1.next = node2\n",
    "node2.next = node3\n",
    "node3.next = node4\n",
    "node4.next = node5\n",
    "node5.next = node6\n",
    "ll = LinkedList(node1)\n",
    "\n",
    "delete_middle(ll)\n",
    "\n",
    "assert return_last_kth(ll, 3) == 1"
   ]
  },
  {
   "cell_type": "markdown",
   "metadata": {
    "collapsed": true
   },
   "source": [
    "2.4 Partition"
   ]
  },
  {
   "cell_type": "markdown",
   "metadata": {
    "collapsed": true
   },
   "source": [
    "2.5 Sum Lists"
   ]
  },
  {
   "cell_type": "markdown",
   "metadata": {
    "collapsed": true
   },
   "source": [
    "2.6 Palindrome"
   ]
  },
  {
   "cell_type": "markdown",
   "metadata": {
    "collapsed": true
   },
   "source": [
    "2.7 Intersection"
   ]
  },
  {
   "cell_type": "markdown",
   "metadata": {
    "collapsed": true
   },
   "source": [
    "2.8 Loop Detection"
   ]
  },
  {
   "cell_type": "code",
   "execution_count": null,
   "metadata": {
    "collapsed": true
   },
   "outputs": [],
   "source": [
    "1 + 1"
   ]
  },
  {
   "cell_type": "code",
   "execution_count": 46,
   "metadata": {
    "collapsed": false
   },
   "outputs": [
    {
     "name": "stdout",
     "output_type": "stream",
     "text": [
      "1\n"
     ]
    }
   ],
   "source": []
  },
  {
   "cell_type": "code",
   "execution_count": null,
   "metadata": {
    "collapsed": true
   },
   "outputs": [],
   "source": []
  }
 ],
 "metadata": {
  "kernelspec": {
   "display_name": "Python 2",
   "language": "python",
   "name": "python2"
  },
  "language_info": {
   "codemirror_mode": {
    "name": "ipython",
    "version": 2
   },
   "file_extension": ".py",
   "mimetype": "text/x-python",
   "name": "python",
   "nbconvert_exporter": "python",
   "pygments_lexer": "ipython2",
   "version": "2.7.10"
  }
 },
 "nbformat": 4,
 "nbformat_minor": 0
}
