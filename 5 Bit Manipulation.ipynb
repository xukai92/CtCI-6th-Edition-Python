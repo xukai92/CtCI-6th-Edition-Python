{
 "cells": [
  {
   "cell_type": "markdown",
   "metadata": {},
   "source": [
    "5.1 Insertion"
   ]
  },
  {
   "cell_type": "code",
   "execution_count": 40,
   "metadata": {
    "collapsed": true
   },
   "outputs": [],
   "source": [
    "def insert_bits(n, m, i, j):\n",
    "    mask = ((1 << i) - 1) | (~0 << j)\n",
    "    l = 32\n",
    "    while m >> l == 0:\n",
    "        l -= 1\n",
    "    return (m << (j - l)) | (n & mask)"
   ]
  },
  {
   "cell_type": "code",
   "execution_count": 41,
   "metadata": {
    "collapsed": false
   },
   "outputs": [],
   "source": [
    "n = int(\"10000000000\", 2)\n",
    "m = int(\"10011\", 2)\n",
    "\n",
    "assert insert_bits(n, m, 2, 6) == int(\"10001001100\", 2)"
   ]
  },
  {
   "cell_type": "markdown",
   "metadata": {},
   "source": [
    "**5.2 Binary to String:** Given a real number between 0 and 1 (e.g. 0.72) that is passed in as a double, print the binary representation. If the number cannot be represented accurately in binary with at most 32 characters, print \"ERROR\"."
   ]
  },
  {
   "cell_type": "code",
   "execution_count": 26,
   "metadata": {
    "collapsed": true
   },
   "outputs": [],
   "source": [
    "def bin2str(num):\n",
    "    string = \".\"\n",
    "    weight = 0.5\n",
    "    while len(string) < 32:\n",
    "        if num >= weight:\n",
    "            num -= weight\n",
    "            string += '1'\n",
    "        else:\n",
    "            string += '0'\n",
    "        \n",
    "        if num == 0:\n",
    "            return string\n",
    "        \n",
    "        weight /= 2\n",
    "        \n",
    "    assert num == 0, \"[bin2str] the number cannot be represented accurately in binary within 32 characters ({string})\".format(string=string)\n",
    "    return string"
   ]
  },
  {
   "cell_type": "code",
   "execution_count": 27,
   "metadata": {
    "collapsed": false
   },
   "outputs": [],
   "source": [
    "assert bin2str(0.5) == \".1\"\n",
    "assert bin2str(0.625) == \".101\""
   ]
  },
  {
   "cell_type": "markdown",
   "metadata": {},
   "source": [
    "5.3 Flip Bit to Win"
   ]
  },
  {
   "cell_type": "code",
   "execution_count": 78,
   "metadata": {
    "collapsed": false
   },
   "outputs": [],
   "source": [
    "def flip_to_win(n):\n",
    "    def is_one(i): \n",
    "        return (n & (1 << i)) != 0\n",
    "    fst, snd, trd = 0, 0, 0\n",
    "    max_len = 0\n",
    "    for i in range(31, -1, -1):\n",
    "        if is_one(i):\n",
    "            if trd != 0:\n",
    "                trd += 1\n",
    "            else:\n",
    "                fst, snd, trd = snd, trd, 1\n",
    "        else:\n",
    "            fst, snd, trd = snd, trd, 0\n",
    "        curr_max = sum([fst, snd, trd]) + 1\n",
    "        if curr_max > max_len:\n",
    "            max_len = curr_max\n",
    "    return max_len"
   ]
  },
  {
   "cell_type": "code",
   "execution_count": 79,
   "metadata": {
    "collapsed": false
   },
   "outputs": [],
   "source": [
    "assert flip_to_win(int(\"1111011101\", 2)) == 8"
   ]
  },
  {
   "cell_type": "markdown",
   "metadata": {},
   "source": [
    "**5.4 Next Number:** Given a positive integer, print the next smallest and the next largest number that have the same number of 1 bits in their binary representation."
   ]
  },
  {
   "cell_type": "code",
   "execution_count": 128,
   "metadata": {
    "collapsed": false
   },
   "outputs": [],
   "source": [
    "def next_number(num):\n",
    "    def find_larger_swap(num):\n",
    "        idx, count1 = 1, 0\n",
    "        find1 = False\n",
    "        while not (find1 and num & 1 == 0):\n",
    "            if num & 1 == 1:\n",
    "                count1 += 1\n",
    "                find1 = True\n",
    "            num = num >> 1\n",
    "            idx += 1\n",
    "        return idx, count1\n",
    "    \n",
    "    def find_smaller_swap(num):\n",
    "        idx, count0 = 1, 0\n",
    "        find0 = False\n",
    "        while not (find0 and num & 1 == 1):\n",
    "            if num & 1 == 0:\n",
    "                count0 += 1\n",
    "                find0 = True\n",
    "            num = num >> 1\n",
    "            idx += 1\n",
    "        return idx, count0\n",
    "    \n",
    "    def update_bit_at(num, value, idx):\n",
    "        mask = ~(1 << (idx - 1))\n",
    "        return (num & mask) | (value << (idx - 1))\n",
    "        \n",
    "    idx, count1 = find_larger_swap(num)\n",
    "    num_larger = num\n",
    "    num_larger = update_bit_at(num_larger, 1, idx)\n",
    "    num_larger = num_larger & -1 << (idx - 1)\n",
    "    num_larger = num_larger | ~(-1 << (count1 - 1))\n",
    "    \n",
    "    idx, count0 = find_smaller_swap(num)\n",
    "    num_smaller = num\n",
    "    num_smaller = update_bit_at(num_smaller, 0, idx)\n",
    "    num_smaller = num_smaller & -1 << (idx - 1)\n",
    "    num_smaller = num_smaller | ~(-1 << (idx - count0))\n",
    "    \n",
    "    return num_smaller, num_larger"
   ]
  },
  {
   "cell_type": "code",
   "execution_count": 135,
   "metadata": {
    "collapsed": false
   },
   "outputs": [],
   "source": [
    "assert next_number(2) == (1, 4)\n",
    "assert next_number(23) == (15, 27)\n",
    "assert next_number(74) == (73, 76)\n",
    "assert next_number(76) == (73, 81)"
   ]
  },
  {
   "cell_type": "markdown",
   "metadata": {},
   "source": [
    "**5.5 Debugger:** Explain what the following code does: `((n & (n-1)) == 0)`."
   ]
  },
  {
   "cell_type": "markdown",
   "metadata": {},
   "source": [
    "**5.6 Conversion:** Write a function to determine the number of bits you need to flip to convert integer A to interger B.\n",
    "\n",
    "EXAMPLE\n",
    "\n",
    "Input: 29 (=11101), 15 (=01111)\n",
    "\n",
    "Output: 2"
   ]
  },
  {
   "cell_type": "code",
   "execution_count": 86,
   "metadata": {
    "collapsed": true
   },
   "outputs": [],
   "source": [
    "def conversion_bits(a, b):\n",
    "    count = 0\n",
    "    c = a ^ b\n",
    "    while c != 0:\n",
    "        c = c & (c - 1)\n",
    "        count += 1\n",
    "    return count"
   ]
  },
  {
   "cell_type": "code",
   "execution_count": 87,
   "metadata": {
    "collapsed": false
   },
   "outputs": [],
   "source": [
    "assert conversion_bits(29, 15) == 2"
   ]
  },
  {
   "cell_type": "markdown",
   "metadata": {},
   "source": [
    "**5.7 Pairwise Swap:** Write a program to swap odd and even bits in an interget with as few instructions as possible (e.g., bit 0 and bit 1 are swapped, bit 2 and bit 3 are swapped, and so on)."
   ]
  },
  {
   "cell_type": "code",
   "execution_count": 146,
   "metadata": {
    "collapsed": true
   },
   "outputs": [],
   "source": [
    "def pairwise_swap(num):\n",
    "    evens = 0xaaaaaaaa & num\n",
    "    odds = 0x55555555 & num\n",
    "    return evens >> 1 | odds << 1"
   ]
  },
  {
   "cell_type": "code",
   "execution_count": 147,
   "metadata": {
    "collapsed": false
   },
   "outputs": [],
   "source": [
    "assert pairwise_swap(5) == 10"
   ]
  },
  {
   "cell_type": "markdown",
   "metadata": {},
   "source": [
    "5.8 Draw Line"
   ]
  },
  {
   "cell_type": "code",
   "execution_count": null,
   "metadata": {
    "collapsed": true
   },
   "outputs": [],
   "source": []
  }
 ],
 "metadata": {
  "kernelspec": {
   "display_name": "Python 2",
   "language": "python",
   "name": "python2"
  },
  "language_info": {
   "codemirror_mode": {
    "name": "ipython",
    "version": 2
   },
   "file_extension": ".py",
   "mimetype": "text/x-python",
   "name": "python",
   "nbconvert_exporter": "python",
   "pygments_lexer": "ipython2",
   "version": "2.7.10"
  }
 },
 "nbformat": 4,
 "nbformat_minor": 0
}
