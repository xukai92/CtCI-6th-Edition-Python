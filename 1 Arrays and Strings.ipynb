{
 "cells": [
  {
   "cell_type": "markdown",
   "metadata": {},
   "source": [
    "1.1 Is Unique"
   ]
  },
  {
   "cell_type": "code",
   "execution_count": 242,
   "metadata": {
    "collapsed": true
   },
   "outputs": [],
   "source": [
    "def is_unique(string):\n",
    "    \n",
    "    ch_set = set(string)\n",
    "    \n",
    "    return len(ch_set) == len(string)"
   ]
  },
  {
   "cell_type": "code",
   "execution_count": 243,
   "metadata": {
    "collapsed": false
   },
   "outputs": [],
   "source": [
    "assert is_unique(\"  \") == False, \"[is_unique] empty string should return False\"\n",
    "assert is_unique(\"abcd\") == True, \"[is_unique] string with unique characters should return True\"\n",
    "assert is_unique(\"abbcd\") == False, \"[is_unique] strings with (partial) duplicate characters should return False\""
   ]
  },
  {
   "cell_type": "markdown",
   "metadata": {},
   "source": [
    "1.2 Check Permutation"
   ]
  },
  {
   "cell_type": "code",
   "execution_count": 244,
   "metadata": {
    "collapsed": true
   },
   "outputs": [],
   "source": [
    "def check_permu(str1, str2):\n",
    "    \n",
    "    # Check length\n",
    "    if len(str1) != len(str2):\n",
    "        return False\n",
    "    s1_set, s2_set = set(str1), set(str2)\n",
    "\n",
    "    # Check characters\n",
    "    if s1_set != s2_set:\n",
    "        return False\n",
    "\n",
    "    # Count\n",
    "    s1_dict, s2_dict = {ch : 0 for ch in s1_set}, {ch : 0 for ch in s2_set}\n",
    "    for ch in str1:\n",
    "        s1_dict[ch] += 1\n",
    "    for ch in str2:\n",
    "        s2_dict[ch] += 1\n",
    "        \n",
    "    return s1_dict == s2_dict"
   ]
  },
  {
   "cell_type": "code",
   "execution_count": 245,
   "metadata": {
    "collapsed": false
   },
   "outputs": [],
   "source": [
    "assert check_permu(\"abc\", \"ab\") == False, \"[check_permu] strings with different length should return False\"\n",
    "assert check_permu(\"aadc\", \"addc\") == False, \"[check_permu] strings with different characters should return False\"\n",
    "assert check_permu(\"abcd\", \"acdb\") == True, \"[check_permu] strings with the same counting should return True\""
   ]
  },
  {
   "cell_type": "markdown",
   "metadata": {},
   "source": [
    "1.3 URLify"
   ]
  },
  {
   "cell_type": "code",
   "execution_count": 246,
   "metadata": {
    "collapsed": true
   },
   "outputs": [],
   "source": [
    "def URLify(string, length):\n",
    "    \n",
    "    s_list = []\n",
    "    for i in range(length):\n",
    "        ch = string[i]\n",
    "        if ch == ' ':\n",
    "            s_list.append(\"%20\")\n",
    "        else:\n",
    "            s_list.append(ch)\n",
    "    \n",
    "    return ''.join(s_list)"
   ]
  },
  {
   "cell_type": "code",
   "execution_count": 247,
   "metadata": {
    "collapsed": false
   },
   "outputs": [],
   "source": [
    "# Some of the test cases used since this question are taken from\n",
    "# https://github.com/careercup/CtCI-6th-Edition-Python\n",
    "assert URLify(\"much ado about nothing      \", 22) == \"much%20ado%20about%20nothing\"\n",
    "assert URLify(\"Mr John Smith    \", 13) == \"Mr%20John%20Smith\""
   ]
  },
  {
   "cell_type": "markdown",
   "metadata": {},
   "source": [
    "1.4 Palindrome Permutation"
   ]
  },
  {
   "cell_type": "code",
   "execution_count": 248,
   "metadata": {
    "collapsed": true
   },
   "outputs": [],
   "source": [
    "def pali_permu(string):\n",
    "    \n",
    "    string = string.replace(' ', '').lower()\n",
    "    s_set = set(string)\n",
    "    s_dict = {ch : 0 for ch in s_set}\n",
    "    for ch in string:\n",
    "        s_dict[ch] += 1\n",
    "        \n",
    "    odd_count = 0\n",
    "    even_count = 0\n",
    "    for ch in s_set:\n",
    "        if s_dict[ch] % 2 == 0:\n",
    "            even_count += 1\n",
    "        else:\n",
    "            odd_count += 1\n",
    "            \n",
    "    return odd_count <= 1"
   ]
  },
  {
   "cell_type": "code",
   "execution_count": 249,
   "metadata": {
    "collapsed": false
   },
   "outputs": [],
   "source": [
    "assert pali_permu(\"Tact Coa\") == True\n",
    "assert pali_permu(\"jhsabckuj ahjsbckj\") == True\n",
    "assert pali_permu(\"Able was I ere I saw Elba\") == True\n",
    "assert pali_permu(\"So patient a nurse to nurse a patient so\") == False\n",
    "assert pali_permu(\"Random Words\") == False\n",
    "assert pali_permu(\"Not a Palindrome\") == False\n",
    "assert pali_permu(\"no x in nixon\") == True\n",
    "assert pali_permu(\"azAZ\") == True"
   ]
  },
  {
   "cell_type": "markdown",
   "metadata": {},
   "source": [
    "1.5 One Away"
   ]
  },
  {
   "cell_type": "code",
   "execution_count": 250,
   "metadata": {
    "collapsed": true
   },
   "outputs": [],
   "source": [
    "def is_one_away(str1, str2):\n",
    "    \n",
    "    # Make sure str1 is the shorter one\n",
    "    # i.e. only str1 can be inserted to make str2\n",
    "    if len(str1) > len(str2):\n",
    "        str1, str2 = str2, str1\n",
    "    \n",
    "    # Length difference over 2 must have 2 or more editions\n",
    "    len_diff = len(str2) - len(str1)\n",
    "    if len_diff > 1:\n",
    "        return False\n",
    "    \n",
    "    idx2 = 0\n",
    "    is_inserted = False\n",
    "    for idx1 in range(len(str1)):\n",
    "\n",
    "        if str1[idx1] != str2[idx2]:\n",
    "            if not is_inserted:\n",
    "                is_inserted = True\n",
    "                idx2 += len_diff\n",
    "            else:\n",
    "                return False\n",
    "            \n",
    "        idx2 += 1\n",
    "            \n",
    "    return True"
   ]
  },
  {
   "cell_type": "code",
   "execution_count": 251,
   "metadata": {
    "collapsed": false
   },
   "outputs": [],
   "source": [
    "assert is_one_away(\"pale\", \"ple\") == True\n",
    "assert is_one_away(\"pal\", \"pale\") == True\n",
    "assert is_one_away(\"pale\", \"bale\") == True\n",
    "assert is_one_away(\"pale\", \"baie\") == False"
   ]
  },
  {
   "cell_type": "markdown",
   "metadata": {},
   "source": [
    "1.6 String Compression"
   ]
  },
  {
   "cell_type": "code",
   "execution_count": 252,
   "metadata": {
    "collapsed": true
   },
   "outputs": [],
   "source": [
    "def str_compress(string):\n",
    "    \n",
    "    if len(string) == 0:\n",
    "        return \"\"\n",
    "    \n",
    "    compressed_list = []\n",
    "    ch_pre = string[0]\n",
    "    count = 0\n",
    "    for idx in range(len(string)):\n",
    "        \n",
    "        ch_now = string[idx]\n",
    "        if ch_now == ch_pre:\n",
    "            count += 1\n",
    "        else:\n",
    "            compressed_list.append(ch_pre)\n",
    "            compressed_list.append(str(count))\n",
    "            ch_pre = ch_now\n",
    "            count = 1\n",
    "            \n",
    "    compressed_list.append(ch_pre)\n",
    "    compressed_list.append(str(count))\n",
    "    \n",
    "    str_compressed = ''.join(compressed_list)\n",
    "    \n",
    "    if len(string) <= len(str_compressed):\n",
    "        return string\n",
    "    else:\n",
    "        return str_compressed"
   ]
  },
  {
   "cell_type": "code",
   "execution_count": 253,
   "metadata": {
    "collapsed": false
   },
   "outputs": [],
   "source": [
    "assert str_compress(\"aabcccccaaa\") == \"a2b1c5a3\"\n",
    "assert str_compress(\"abcdef\") == \"abcdef\"\n",
    "assert str_compress(\"aabbcc\") == \"aabbcc\""
   ]
  },
  {
   "cell_type": "markdown",
   "metadata": {},
   "source": [
    "1.7 Rotate Matrix"
   ]
  },
  {
   "cell_type": "code",
   "execution_count": 254,
   "metadata": {
    "collapsed": false
   },
   "outputs": [],
   "source": [
    "def rotate_matrix(mat):\n",
    "    dim = len(mat)\n",
    "    for row in range(dim / 2):\n",
    "        for col in range(row, dim - 1 - row):\n",
    "            mat[col][dim - row - 1], mat[dim - row - 1][dim - col - 1], mat[dim - col - 1][row], mat[row][col] = \\\n",
    "            mat[row][col], mat[col][dim - row - 1], mat[dim - row - 1][dim - col - 1], mat[dim - col - 1][row]"
   ]
  },
  {
   "cell_type": "code",
   "execution_count": 255,
   "metadata": {
    "collapsed": false
   },
   "outputs": [],
   "source": [
    "mat = [\n",
    "    [1, 2, 3, 4, 5],\n",
    "    [6, 7, 8, 9, 10],\n",
    "    [11, 12, 13, 14, 15],\n",
    "    [16, 17, 18, 19, 20],\n",
    "    [21, 22, 23, 24, 25]\n",
    "]\n",
    "rotate_matrix(mat)\n",
    "\n",
    "assert mat == [\n",
    "    [21, 16, 11, 6, 1],\n",
    "    [22, 17, 12, 7, 2],\n",
    "    [23, 18, 13, 8, 3],\n",
    "    [24, 19, 14, 9, 4],\n",
    "    [25, 20, 15, 10, 5]\n",
    "]"
   ]
  },
  {
   "cell_type": "markdown",
   "metadata": {},
   "source": [
    "1.8 Zero Matrix"
   ]
  },
  {
   "cell_type": "code",
   "execution_count": 256,
   "metadata": {
    "collapsed": true
   },
   "outputs": [],
   "source": [
    "def zero_matrix(mat):\n",
    "        \n",
    "    dim1, dim2 = len(mat), len(mat[0])\n",
    "    \n",
    "    # Mark\n",
    "    clear_fst_row = False\n",
    "    for col in range(dim2):\n",
    "        if mat[0][col] == 0:\n",
    "            clear_fst_row = True\n",
    "            break\n",
    "    \n",
    "    for col in range(dim2):\n",
    "        for row in range(dim1):\n",
    "            if mat[row][col] == 0:\n",
    "                mat[0][col] = 0\n",
    "                break\n",
    "    \n",
    "    for row in range(1, dim1):\n",
    "        for col in range(dim2):\n",
    "            if mat[row][col] == 0:\n",
    "                mat[row][0] = 0\n",
    "                break\n",
    "    \n",
    "    # Clear\n",
    "    for row in range(1, dim1):\n",
    "        if mat[row][0] == 0:\n",
    "            for col in range(1, dim2):\n",
    "                mat[row][col] = 0\n",
    "                \n",
    "    for col in range(dim2):\n",
    "        if mat[0][col] == 0:\n",
    "            for row in range(1, dim1):\n",
    "                mat[row][col] = 0\n",
    "    \n",
    "    if clear_fst_row:\n",
    "        for col in range(dim2):\n",
    "            mat[0][col] = 0        "
   ]
  },
  {
   "cell_type": "code",
   "execution_count": 257,
   "metadata": {
    "collapsed": false
   },
   "outputs": [],
   "source": [
    "mat = [\n",
    "    [1, 2, 3, 4, 0],\n",
    "    [6, 0, 8, 9, 10],\n",
    "    [11, 12, 13, 14, 15],\n",
    "    [16, 0, 18, 19, 20],\n",
    "    [21, 22, 23, 24, 25]\n",
    "]\n",
    "zero_matrix(mat)\n",
    "\n",
    "assert mat == [\n",
    "    [0, 0, 0, 0, 0],\n",
    "    [0, 0, 0, 0, 0],\n",
    "    [11, 0, 13, 14, 0],\n",
    "    [0, 0, 0, 0, 0],\n",
    "    [21, 0, 23, 24, 0]\n",
    "]"
   ]
  },
  {
   "cell_type": "markdown",
   "metadata": {},
   "source": [
    "1.9 String Rotation"
   ]
  },
  {
   "cell_type": "code",
   "execution_count": 258,
   "metadata": {
    "collapsed": false
   },
   "outputs": [],
   "source": [
    "def is_rotated(str1, str2):\n",
    "    if len(str1) == len(str2):\n",
    "        return (str2 + str2).find(str1) > 0\n",
    "    else:\n",
    "        return False"
   ]
  },
  {
   "cell_type": "code",
   "execution_count": 259,
   "metadata": {
    "collapsed": false
   },
   "outputs": [],
   "source": [
    "assert is_rotated(\"waterbottle\", \"erbottlewat\") == True\n",
    "assert is_rotated(\"foo\", \"bar\") == False\n",
    "assert is_rotated(\"foo\", \"foofoo\") == False\n",
    "assert is_rotated(\"foo\", \"foo\") == False\n",
    "assert is_rotated(\"foo\", \"ofo\") == True"
   ]
  },
  {
   "cell_type": "code",
   "execution_count": null,
   "metadata": {
    "collapsed": true
   },
   "outputs": [],
   "source": []
  }
 ],
 "metadata": {
  "kernelspec": {
   "display_name": "Python 2",
   "language": "python",
   "name": "python2"
  },
  "language_info": {
   "codemirror_mode": {
    "name": "ipython",
    "version": 2
   },
   "file_extension": ".py",
   "mimetype": "text/x-python",
   "name": "python",
   "nbconvert_exporter": "python",
   "pygments_lexer": "ipython2",
   "version": "2.7.10"
  }
 },
 "nbformat": 4,
 "nbformat_minor": 0
}
