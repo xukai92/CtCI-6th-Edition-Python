{
 "cells": [
  {
   "cell_type": "code",
   "execution_count": 28,
   "metadata": {
    "collapsed": true
   },
   "outputs": [],
   "source": [
    "class Node:\n",
    "    def __init__(self, item, next=None, prev=None):\n",
    "        self.item = item\n",
    "        self.next = next\n",
    "        self.prev = prev\n",
    "\n",
    "class LinkedList:\n",
    "    def __init__(self, head=None):\n",
    "        self.head = head\n",
    "        \n",
    "    def length(self):\n",
    "        length = 0\n",
    "        curr = self.head\n",
    "        while curr != None:\n",
    "            curr = curr.next\n",
    "            length += 1\n",
    "        return length\n",
    "    \n",
    "    def __str__(self):\n",
    "        ll_str = \"\"\n",
    "        curr = self.head\n",
    "        while curr != None:\n",
    "            ll_str += str(curr.item) + \" -> \"\n",
    "            curr = curr.next\n",
    "        return ll_str + \"None\"\n",
    "    \n",
    "def make_ll(l):\n",
    "    if len(l) == 0:\n",
    "        return LinkedList()\n",
    "    nodes = []\n",
    "    for ele in l:\n",
    "        nodes.append(Node(ele))\n",
    "    for i in range(len(l) - 1):\n",
    "        nodes[i].next = nodes[i + 1]\n",
    "    return LinkedList(nodes[0])"
   ]
  },
  {
   "cell_type": "markdown",
   "metadata": {},
   "source": [
    "**2.1 Remove Dups:** Write code to remove duplicates from an unsorted linked list.\n",
    "\n",
    "FOLLOW UP\n",
    "\n",
    "How would you solve this problem if a temporary buffer is not allowed?"
   ]
  },
  {
   "cell_type": "code",
   "execution_count": 9,
   "metadata": {
    "collapsed": true
   },
   "outputs": [],
   "source": [
    "def remove_dups(ll):\n",
    "    item_set = set()\n",
    "    prev = ll.head\n",
    "    item_set.add(prev.item)\n",
    "    \n",
    "    curr = prev.next\n",
    "    while curr != None:\n",
    "        if curr.item in item_set:\n",
    "            prev.next = curr.next\n",
    "        else:\n",
    "            item_set.add(curr.item)\n",
    "            prev = curr\n",
    "        curr = curr.next"
   ]
  },
  {
   "cell_type": "code",
   "execution_count": 10,
   "metadata": {
    "collapsed": true
   },
   "outputs": [],
   "source": [
    "def remove_dups(ll):\n",
    "    outer = ll.head\n",
    "    while outer != None:\n",
    "        inner = outer\n",
    "        while inner.next != None:\n",
    "            if inner.next.item == outer.item:\n",
    "                inner.next = inner.next.next\n",
    "            inner = inner.next\n",
    "            if inner == None:\n",
    "                break\n",
    "        outer = outer.next"
   ]
  },
  {
   "cell_type": "code",
   "execution_count": 11,
   "metadata": {
    "collapsed": false
   },
   "outputs": [],
   "source": [
    "node1 = Node(3)\n",
    "node2 = Node(3)\n",
    "node3 = Node(1)\n",
    "node4 = Node(2)\n",
    "node5 = Node(2)\n",
    "node6 = Node(1)\n",
    "node1.next = node2\n",
    "node2.next = node3\n",
    "node3.next = node4\n",
    "node4.next = node5\n",
    "node5.next = node6\n",
    "ll = LinkedList(node1)\n",
    "\n",
    "remove_dups(ll)\n",
    "\n",
    "assert ll.length() == 3"
   ]
  },
  {
   "cell_type": "markdown",
   "metadata": {},
   "source": [
    "**2.2 Return Kth to Last:** Implement an algorithm to find the kth to last element of a singly linked list."
   ]
  },
  {
   "cell_type": "code",
   "execution_count": 12,
   "metadata": {
    "collapsed": false
   },
   "outputs": [],
   "source": [
    "def return_last_kth(ll, k):\n",
    "    slow = ll.head\n",
    "    fast = slow\n",
    "    \n",
    "    for _ in range(k):\n",
    "        try:\n",
    "            fast = fast.next\n",
    "        except:\n",
    "            print \"[return_kth] linked list is shorter than {k}\".format(k=k)\n",
    "            \n",
    "    while fast != None:\n",
    "        slow = slow.next\n",
    "        fast = fast.next\n",
    "        \n",
    "    return slow.item"
   ]
  },
  {
   "cell_type": "code",
   "execution_count": 13,
   "metadata": {
    "collapsed": false
   },
   "outputs": [],
   "source": [
    "node1 = Node(3)\n",
    "node2 = Node(3)\n",
    "node3 = Node(1)\n",
    "node4 = Node(2)\n",
    "node5 = Node(2)\n",
    "node6 = Node(1)\n",
    "node1.next = node2\n",
    "node2.next = node3\n",
    "node3.next = node4\n",
    "node4.next = node5\n",
    "node5.next = node6\n",
    "ll = LinkedList(node1)\n",
    "\n",
    "assert return_last_kth(ll, 3) == 2\n",
    "assert return_last_kth(ll, 1) == 1"
   ]
  },
  {
   "cell_type": "markdown",
   "metadata": {
    "collapsed": true
   },
   "source": [
    "**2.3 Delete Middle Node:** Implement an algorithm to delete a node in the middle (i.e. any node but the first and last node, not necessarily the exact middle) of a singly linked list, given only access to that node."
   ]
  },
  {
   "cell_type": "code",
   "execution_count": 14,
   "metadata": {
    "collapsed": false
   },
   "outputs": [],
   "source": [
    "def delete_middle(ll):\n",
    "    slow = ll.head\n",
    "    fast = slow\n",
    "    if slow == None:\n",
    "        return\n",
    "    if slow.next == None:\n",
    "        ll.head = None\n",
    "        return\n",
    "    \n",
    "    while fast != None:\n",
    "        slow = slow.next\n",
    "        fast = fast.next\n",
    "        if fast != None:\n",
    "            fast = fast.next\n",
    "            \n",
    "    slow.next = slow.next.next"
   ]
  },
  {
   "cell_type": "code",
   "execution_count": 15,
   "metadata": {
    "collapsed": false
   },
   "outputs": [],
   "source": [
    "node1 = Node(3)\n",
    "node2 = Node(3)\n",
    "node3 = Node(1)\n",
    "node4 = Node(2)\n",
    "node5 = Node(2)\n",
    "node6 = Node(1)\n",
    "node1.next = node2\n",
    "node2.next = node3\n",
    "node3.next = node4\n",
    "node4.next = node5\n",
    "node5.next = node6\n",
    "ll = LinkedList(node1)\n",
    "\n",
    "delete_middle(ll)\n",
    "\n",
    "assert return_last_kth(ll, 3) == 1"
   ]
  },
  {
   "cell_type": "markdown",
   "metadata": {
    "collapsed": true
   },
   "source": [
    "2.4 Partition"
   ]
  },
  {
   "cell_type": "code",
   "execution_count": 16,
   "metadata": {
    "collapsed": true
   },
   "outputs": [],
   "source": [
    "def partition(ll, x):\n",
    "    left = Node(None)\n",
    "    right = Node(None)\n",
    "    left_head = left\n",
    "    right_head = right\n",
    "    curr = ll.head\n",
    "    while curr != None:\n",
    "        if curr.item < x:\n",
    "            left.next = curr\n",
    "            left = curr\n",
    "        else:\n",
    "            right.next = curr\n",
    "            right = curr\n",
    "        curr = curr.next\n",
    "    right.next = None\n",
    "    left.next = right_head.next\n",
    "    return LinkedList(left_head.next)"
   ]
  },
  {
   "cell_type": "code",
   "execution_count": 17,
   "metadata": {
    "collapsed": false
   },
   "outputs": [],
   "source": [
    "node1 = Node(3)\n",
    "node2 = Node(5)\n",
    "node3 = Node(8)\n",
    "node4 = Node(5)\n",
    "node5 = Node(10)\n",
    "node6 = Node(2)\n",
    "node7 = Node(1)\n",
    "node1.next = node2\n",
    "node2.next = node3\n",
    "node3.next = node4\n",
    "node4.next = node5\n",
    "node5.next = node6\n",
    "node6.next = node7\n",
    "ll = LinkedList(node1)        # \"3 -> 5 -> 8 -> 5 -> 10 -> 2 -> 1 -> None\"\n",
    "\n",
    "assert str(partition(ll, 5)) == \"3 -> 2 -> 1 -> 5 -> 8 -> 5 -> 10 -> None\""
   ]
  },
  {
   "cell_type": "markdown",
   "metadata": {
    "collapsed": true
   },
   "source": [
    "**2.5 Sum Lists:** You have two numbers represented by a linked list, where each node contains a single digit. The digits are stored in reverse order, such that the 1's digit is at the head of the list. Write a function that adds the two numbers and returns the sum as a linked list.\n",
    "\n",
    "EXAMPLE\n",
    "\n",
    "Input: (7 -> 1 -> 6) + (5 -> 9 -> 2). That is, 617 + 295.\n",
    "\n",
    "Output: 2 -> 1 -> 9. That is, 912."
   ]
  },
  {
   "cell_type": "code",
   "execution_count": 38,
   "metadata": {
    "collapsed": true
   },
   "outputs": [],
   "source": [
    "def sum_lists(la, lb):\n",
    "    is_head = True\n",
    "    curra = la.head\n",
    "    currb = lb.head\n",
    "    carry = 0\n",
    "    pre_head = Node(None)\n",
    "    prev = pre_head\n",
    "    while not (curra == None and currb == None and carry == 0):\n",
    "        a, b = 0, 0\n",
    "        if curra != None:\n",
    "            a = curra.item\n",
    "        if currb != None:\n",
    "            b = currb.item\n",
    "            \n",
    "        carry, val = (a + b + carry) / 10, (a + b + carry) % 10\n",
    "        \n",
    "        node = Node(val)\n",
    "        prev.next = node\n",
    "        prev = node\n",
    "        \n",
    "        if curra != None:\n",
    "            curra = curra.next\n",
    "        if currb != None:\n",
    "            currb = currb.next\n",
    "    \n",
    "    return LinkedList(pre_head.next)"
   ]
  },
  {
   "cell_type": "code",
   "execution_count": 39,
   "metadata": {
    "collapsed": false
   },
   "outputs": [],
   "source": [
    "la = make_ll([7,1,6])\n",
    "lb = make_ll([5,9,3])\n",
    "\n",
    "assert str(sum_lists(la, lb)) == \"2 -> 1 -> 0 -> 1 -> None\""
   ]
  },
  {
   "cell_type": "markdown",
   "metadata": {},
   "source": [
    "FOLLOW UP\n",
    "\n",
    "Suppose the digits are stored in forward order. Repeat the above problem.\n",
    "\n",
    "EXAMPLE\n",
    "\n",
    "Input: (6 -> 1 -> 7) + (2 -> 9 -> 5). That is, 618 + 295.\n",
    "\n",
    "Output: 9 -> 1 -> 2. That is, 912."
   ]
  },
  {
   "cell_type": "code",
   "execution_count": 61,
   "metadata": {
    "collapsed": true
   },
   "outputs": [],
   "source": [
    "def sum_lists(la, lb):\n",
    "    def recur(na, nb):\n",
    "        if na == None and nb == None:\n",
    "            return 0, None\n",
    "        else:\n",
    "            carry, next = recur(na.next, nb.next)\n",
    "            a, b = na.item, nb.item\n",
    "            carry, val = (a + b + carry) / 10, (a + b + carry) % 10\n",
    "            node = Node(val)\n",
    "            node.next = next\n",
    "            return carry, node\n",
    "    \n",
    "    lena, lenb = la.length(), lb.length()\n",
    "    if lena != lenb:\n",
    "        if lena < lenb:\n",
    "            head = la.head\n",
    "            for _ in range(lenb - lena):\n",
    "                curr = Node(0)\n",
    "                curr.next = head\n",
    "                head = curr\n",
    "            la = LinkedList(head)\n",
    "        else:\n",
    "            head = lb.head\n",
    "            for _ in range(lena - lenb):\n",
    "                curr = Node(0)\n",
    "                curr.next = head\n",
    "                head = curr\n",
    "            lb = LinkedList(head)\n",
    "    \n",
    "    carry, head = recur(la.head, lb.head)\n",
    "    \n",
    "    if carry != 0:\n",
    "        node = Node(carry)\n",
    "        node.next = head\n",
    "        head = node\n",
    "        \n",
    "    return LinkedList(head)"
   ]
  },
  {
   "cell_type": "code",
   "execution_count": 62,
   "metadata": {
    "collapsed": false
   },
   "outputs": [],
   "source": [
    "la = make_ll([6,1,7])\n",
    "lb = make_ll([3,9,5])\n",
    "\n",
    "assert str(sum_lists(la, lb)) == \"1 -> 0 -> 1 -> 2 -> None\""
   ]
  },
  {
   "cell_type": "markdown",
   "metadata": {
    "collapsed": true
   },
   "source": [
    "**2.6 Palindrome:** Implement a function to check if a linked list is a palindrome."
   ]
  },
  {
   "cell_type": "code",
   "execution_count": null,
   "metadata": {
    "collapsed": true
   },
   "outputs": [],
   "source": [
    "def is_palindrome(ll, length=ll.length()):\n",
    "    def recur(head, length):\n",
    "        if length == 0:\n",
    "            return True,\n",
    "        elif length == 1:\n",
    "            return True, head.next\n",
    "        elif length == 2:\n",
    "            return head.item == head.next.item, head.next.next\n",
    "        else:\n",
    "            res = recur(head.next, length - 2)\n",
    "            return res[0] and head.item == res[1].item, res[1].next\n",
    "    res = recur(ll.head, length)\n",
    "    return res[0]"
   ]
  },
  {
   "cell_type": "code",
   "execution_count": null,
   "metadata": {
    "collapsed": false
   },
   "outputs": [],
   "source": [
    "node1 = Node(3)\n",
    "node2 = Node(3)\n",
    "node3 = Node(1)\n",
    "node4 = Node(2)\n",
    "node5 = Node(2)\n",
    "node6 = Node(1)\n",
    "node1.next = node2\n",
    "node2.next = node3\n",
    "node3.next = node4\n",
    "node4.next = node5\n",
    "node5.next = node6\n",
    "ll1 = LinkedList(node1)\n",
    "\n",
    "node1 = Node(3)\n",
    "node2 = Node(2)\n",
    "node3 = Node(1)\n",
    "node4 = Node(2)\n",
    "node5 = Node(3)\n",
    "node1.next = node2\n",
    "node2.next = node3\n",
    "node3.next = node4\n",
    "node4.next = node5\n",
    "ll2 = LinkedList(node1)\n",
    "\n",
    "node1 = Node(2)\n",
    "node2 = Node(2)\n",
    "node1.next = node2\n",
    "ll3 = LinkedList(node1)\n",
    "\n",
    "assert is_palindrome(ll1, 6) == False\n",
    "assert is_palindrome(ll2, 5) == True\n",
    "assert is_palindrome(ll3, 2) == True\n",
    "assert is_palindrome(LinkedList(), 0) == True"
   ]
  },
  {
   "cell_type": "markdown",
   "metadata": {
    "collapsed": true
   },
   "source": [
    "**2.7 Intersection：** Given two (singly) linked list, determine if the two lists intersect. Return the intersecting node. Note that the intersection is defined based on reference, not value."
   ]
  },
  {
   "cell_type": "code",
   "execution_count": null,
   "metadata": {
    "collapsed": true
   },
   "outputs": [],
   "source": [
    "def intersection(ll1, ll2):\n",
    "    \n",
    "    len1 = ll1.length()\n",
    "    len2 = ll2.length()\n",
    "    if len1 > len2:\n",
    "        longer = ll1.head\n",
    "        shorter = ll2.head\n",
    "    else:\n",
    "        longer = ll2.head\n",
    "        shorter = ll1.head\n",
    "        \n",
    "    for _ in range(len2 - len1):\n",
    "        longer = longer.next\n",
    "        \n",
    "    while shorter != longer:\n",
    "        shorter = shorter.next\n",
    "        longer = longer.next\n",
    "        \n",
    "    return shorter"
   ]
  },
  {
   "cell_type": "code",
   "execution_count": null,
   "metadata": {
    "collapsed": false
   },
   "outputs": [],
   "source": [
    "#      1 -> 2 ->\n",
    "#               \\\n",
    "# 3 -> 4 -> 5 -> 6 -> 7 -> 8 -> 9\n",
    "node1 = Node(1)\n",
    "node2 = Node(2)\n",
    "node3 = Node(3)\n",
    "node4 = Node(4)\n",
    "node5 = Node(5)\n",
    "node6 = Node(6)\n",
    "node7 = Node(7)\n",
    "node8 = Node(8)\n",
    "node9 = Node(9)\n",
    "node1.next = node2\n",
    "node2.next = node6\n",
    "node3.next = node4\n",
    "node4.next = node5\n",
    "node5.next = node6\n",
    "node6.next = node7\n",
    "node7.next = node8\n",
    "node8.next = node9\n",
    "ll1 = LinkedList(node1)\n",
    "ll2 = LinkedList(node3)\n",
    "\n",
    "assert intersection(ll1, ll2) == node6"
   ]
  },
  {
   "cell_type": "markdown",
   "metadata": {
    "collapsed": true
   },
   "source": [
    "**2.8 Loop Detection:** Given a circular linked list, implement an algorithm that returns the node at the begining of the loop.\n",
    "\n",
    "DEFINITION\n",
    "\n",
    "Circular linked list: A (corrupt) linked list in which a node's next pointer points to an earlier node, so as to make a loop in the linked list.\n",
    "\n",
    "EXAMPLE\n",
    "\n",
    "Input: A -> B -> C -> D -> E -> C\n",
    "\n",
    "Output: C"
   ]
  },
  {
   "cell_type": "code",
   "execution_count": null,
   "metadata": {
    "collapsed": true
   },
   "outputs": [],
   "source": [
    "def detect_loop(ll):\n",
    "    fast = slow = ll.head\n",
    "    while True:\n",
    "        fast = fast.next.next\n",
    "        slow = slow.next\n",
    "        if fast == slow:\n",
    "            break\n",
    "    slow2 = ll.head\n",
    "    while True:\n",
    "        slow = slow.next\n",
    "        slow2 = slow2.next\n",
    "        if slow == slow2:\n",
    "            return slow"
   ]
  },
  {
   "cell_type": "code",
   "execution_count": null,
   "metadata": {
    "collapsed": false
   },
   "outputs": [],
   "source": [
    "nodeA = Node('A')\n",
    "nodeB = Node('B')\n",
    "nodeC = Node('C')\n",
    "nodeD = Node('D')\n",
    "nodeE = Node('E')\n",
    "nodeA.next = nodeB\n",
    "nodeB.next = nodeC\n",
    "nodeC.next = nodeD\n",
    "nodeD.next = nodeE\n",
    "nodeE.next = nodeC\n",
    "ll = LinkedList(nodeA)\n",
    "\n",
    "assert detect_loop(ll) == nodeC"
   ]
  },
  {
   "cell_type": "code",
   "execution_count": null,
   "metadata": {
    "collapsed": true
   },
   "outputs": [],
   "source": []
  }
 ],
 "metadata": {
  "kernelspec": {
   "display_name": "Python 2",
   "language": "python",
   "name": "python2"
  },
  "language_info": {
   "codemirror_mode": {
    "name": "ipython",
    "version": 2
   },
   "file_extension": ".py",
   "mimetype": "text/x-python",
   "name": "python",
   "nbconvert_exporter": "python",
   "pygments_lexer": "ipython2",
   "version": "2.7.10"
  }
 },
 "nbformat": 4,
 "nbformat_minor": 0
}
