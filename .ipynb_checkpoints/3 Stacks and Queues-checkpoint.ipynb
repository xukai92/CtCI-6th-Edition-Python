{
 "cells": [
  {
   "cell_type": "markdown",
   "metadata": {},
   "source": [
    "**3.1 Three in One**: Describe how you could use a single array to implement three stacks."
   ]
  },
  {
   "cell_type": "code",
   "execution_count": 34,
   "metadata": {
    "collapsed": false
   },
   "outputs": [],
   "source": [
    "class ThreeInOne:\n",
    "    def __init__(self, size):\n",
    "        assert size >= 3, \"[ThreeInOne.__init__] array size ought to be greater than 3\"\n",
    "        self.size = size\n",
    "        self.arr = [None] * size\n",
    "        self.s1_top = 0\n",
    "        self.s2_top = size - 1\n",
    "        self.mid = size / 2\n",
    "        self.s3_deviation = 0\n",
    "        self.s3_direction = 1\n",
    "        \n",
    "    def push(self, stack_id, value):\n",
    "        assert stack_id in set([1,2,3]), \"[ThreeInOne.push] stack id should be in {1,2,3}\"\n",
    "        if stack_id == 1:\n",
    "            assert self.arr[self.s1_top] == None, \"[ThreeInOne.push] stack 1 is full\"\n",
    "            self.arr[self.s1_top] = value\n",
    "            self.s1_top += 1\n",
    "        elif stack_id == 2:\n",
    "            assert self.arr[self.s2_top] == None, \"[ThreeInOne.push] stack 2 is full\"\n",
    "            self.arr[self.s2_top] = value\n",
    "            self.s2_top -= 1\n",
    "        else:\n",
    "            s3_top = self.mid + self.s3_deviation * self.s3_direction\n",
    "            assert self.arr[s3_top] == None, \"[ThreeInOne.push] stack 3 is full\"\n",
    "            self.arr[s3_top] = value\n",
    "            if self.s3_direction == 1:\n",
    "                self.s3_deviation += 1\n",
    "                self.s3_direction = -1\n",
    "            else:\n",
    "                self.s3_direction = 1\n",
    "    \n",
    "    def pop(self, stack_id):\n",
    "        assert stack_id in set([1,2,3]), \"[ThreeInOne.pop] stack id should be in {1,2,3}\"\n",
    "        if stack_id == 1:\n",
    "            assert self.s1_top != 0, \"[ThreeInOne.pop] stack 1 is empty\"\n",
    "            self.s1_top -= 1\n",
    "            value, self.arr[self.s1_top] = self.arr[self.s1_top], None\n",
    "            return value\n",
    "        elif stack_id == 2:\n",
    "            assert self.s1_top != self.size - 1, \"[ThreeInOne.pop] stack 2 is empty\"\n",
    "            self.s2_top += 1\n",
    "            value, self.arr[self.s2_top] = self.arr[self.s2_top], None\n",
    "            return value\n",
    "        else:\n",
    "            assert self.s3_deviation != 0 & self.s3_direction != 1, \"[ThreeInOne.pop] stack 3 is empty\"\n",
    "            if self.s3_direction == 1:\n",
    "                self.s3_direction = -1\n",
    "            else:\n",
    "                self.s3_deviation -= 1\n",
    "                self.s3_direction = 1\n",
    "            s3_top = self.mid + self.s3_deviation * self.s3_direction\n",
    "            value, self.arr[s3_top] = self.arr[s3_top], None\n",
    "            return value\n",
    "    \n",
    "    def stack_size(self, stack_id):\n",
    "        assert stack_id in set([1,2,3]), \"[ThreeInOne.size] stack id should be in {1,2,3}\"\n",
    "        if stack_id == 1:\n",
    "            return self.s1_top\n",
    "        elif stack_id == 2:\n",
    "            return self.size - 1 - self.s2_top\n",
    "        else:\n",
    "            if self.s3_direction == 1:\n",
    "                return self.s3_deviation * 2\n",
    "            else:\n",
    "                return self.s3_deviation * 2 - 1\n",
    "    \n",
    "    def __str__(self):\n",
    "        return str(self.arr)"
   ]
  },
  {
   "cell_type": "code",
   "execution_count": 35,
   "metadata": {
    "collapsed": false
   },
   "outputs": [],
   "source": [
    "tio = ThreeInOne(10)\n",
    "tio.push(1, 3)\n",
    "tio.push(1, 2)\n",
    "tio.push(2, 2)\n",
    "tio.push(2, 3)\n",
    "tio.push(3, 1)\n",
    "tio.push(3, 2)\n",
    "tio.push(3, 3)\n",
    "assert tio.stack_size(1) == 2\n",
    "assert tio.stack_size(2) == 2\n",
    "assert tio.stack_size(3) == 3\n",
    "tio.pop(1)\n",
    "tio.pop(1)\n",
    "tio.pop(2)\n",
    "tio.pop(2)\n",
    "tio.pop(3)\n",
    "assert tio.stack_size(3) == 2\n",
    "tio.pop(3)\n",
    "assert tio.stack_size(3) == 1\n",
    "tio.pop(3)\n",
    "assert tio.stack_size(3) == 0"
   ]
  },
  {
   "cell_type": "markdown",
   "metadata": {},
   "source": [
    "**3.2 Stack Min:** How would you design a stack which, in addition to `push` and `pop`, has a function `min` which returns the minimum elemnt? `push`, `pop` and `min` should all operate in O(1) time."
   ]
  },
  {
   "cell_type": "code",
   "execution_count": 26,
   "metadata": {
    "collapsed": false
   },
   "outputs": [],
   "source": [
    "class StackMin:\n",
    "    def __init__(self):\n",
    "        self.stack = []\n",
    "        self.min_stack = []\n",
    "    \n",
    "    def push(self, value):\n",
    "        self.stack.append(value)\n",
    "        if len(self.min_stack) == 0 or value < self.min_stack[-1]:\n",
    "            self.min_stack.append(value)\n",
    "    \n",
    "    def pop(self):\n",
    "        assert len(self.stack) > 0, \"[StackMin.pop] empty stack\"\n",
    "        value = self.stack.pop()\n",
    "        if value == self.min_stack[-1]:\n",
    "            self.min_stack.pop()\n",
    "        return value\n",
    "    \n",
    "    def min(self):\n",
    "        assert len(self.min_stack) > 0, \"[StackMin.min] empty stack\"\n",
    "        return self.min_stack[-1]\n",
    "    \n",
    "    def __str__(self):\n",
    "        return str(self.stack)"
   ]
  },
  {
   "cell_type": "code",
   "execution_count": 36,
   "metadata": {
    "collapsed": true
   },
   "outputs": [
    {
     "data": {
      "text/plain": [
       "1"
      ]
     },
     "execution_count": 36,
     "metadata": {},
     "output_type": "execute_result"
    }
   ],
   "source": [
    "st = StackMin()\n",
    "st.push(1)\n",
    "assert st.min() == 1\n",
    "st.push(2)\n",
    "assert st.min() == 1\n",
    "st.push(3)\n",
    "assert st.min() == 1\n",
    "st.push(0)\n",
    "assert st.min() == 0\n",
    "st.pop()\n",
    "assert st.min() == 1\n",
    "st.pop()\n",
    "assert st.min() == 1\n",
    "st.pop()\n",
    "assert st.min() == 1\n",
    "st.pop()"
   ]
  },
  {
   "cell_type": "markdown",
   "metadata": {},
   "source": [
    "3.3 Stack of Plates"
   ]
  },
  {
   "cell_type": "code",
   "execution_count": 18,
   "metadata": {
    "collapsed": true
   },
   "outputs": [],
   "source": [
    "class SetOfStacks:\n",
    "    def __init__(self, volume):\n",
    "        self.volume = volume\n",
    "        self.stacks = [[]]\n",
    "        self.curr_idx = 0\n",
    "        \n",
    "    def push(self, value):\n",
    "        if len(self.stacks[self.curr_idx]) + 1 > self.volume:\n",
    "            self.stacks.append([])\n",
    "            self.curr_idx += 1\n",
    "        self.stacks[self.curr_idx].append(value)\n",
    "    \n",
    "    def pop(self):\n",
    "        assert not self.is_empty(), \"[SetOfStacks.pop] empty stack\"\n",
    "        if len(self.stacks[self.curr_idx]) == 0:\n",
    "            self.stacks.pop()\n",
    "            self.curr_idx -= 1\n",
    "        return self.stacks[self.curr_idx].pop()\n",
    "    \n",
    "    def peek(self):\n",
    "        assert not self.is_empty(), \"[SetOfStacks.pop] empty stack\"\n",
    "        if len(self.stacks[self.curr_idx]) == 0:\n",
    "            self.stacks.pop()\n",
    "            self.curr_idx -= 1\n",
    "        return self.stacks[self.curr_idx][-1]\n",
    "    \n",
    "    def is_empty(self):\n",
    "        return self.curr_idx == 0 and len(self.stacks[self.curr_idx]) == 0\n",
    "    \n",
    "    def stack_num(self):\n",
    "        return len(self.stacks)"
   ]
  },
  {
   "cell_type": "code",
   "execution_count": 23,
   "metadata": {
    "collapsed": false
   },
   "outputs": [],
   "source": [
    "sos = SetOfStacks(2)\n",
    "assert sos.stack_num() == 1\n",
    "sos.push(10)\n",
    "sos.push(20)\n",
    "sos.push(30)\n",
    "assert sos.stack_num() == 2\n",
    "assert sos.pop() == 30\n",
    "assert sos.pop() == 20\n",
    "assert sos.pop() == 10\n",
    "assert sos.is_empty() == True"
   ]
  },
  {
   "cell_type": "markdown",
   "metadata": {},
   "source": [
    "**3.4 Queue via Stacks:** Implement a `MyQueue` class which implements a queue using two stacks."
   ]
  },
  {
   "cell_type": "code",
   "execution_count": 37,
   "metadata": {
    "collapsed": false
   },
   "outputs": [],
   "source": [
    "class MyQueue:\n",
    "    def __init__(self):\n",
    "        self.s1, self.s2 = [], []\n",
    "    \n",
    "    def pop_from_to(self, s1, s2):\n",
    "        while len(s1) > 0:\n",
    "            s2.append(s1.pop())\n",
    "    \n",
    "    def enqueue(self, value):\n",
    "        self.s1.append(value)\n",
    "    \n",
    "    def dequeue(self):\n",
    "        self.pop_from_to(self.s1, self.s2)\n",
    "        assert len(self.s2) > 0, \"[MyQueue.dequeue] empty queue\"\n",
    "        value = self.s2.pop()\n",
    "        self.pop_from_to(self.s2, self.s1)\n",
    "        return value\n",
    "    \n",
    "    def __str__(self):\n",
    "        return str([self.s1[i] for i in range(len(self.s1) - 1, -1, -1)])"
   ]
  },
  {
   "cell_type": "code",
   "execution_count": 5,
   "metadata": {
    "collapsed": false
   },
   "outputs": [],
   "source": [
    "mq = MyQueue()\n",
    "mq.enqueue(10)\n",
    "mq.enqueue(3)\n",
    "\n",
    "assert mq.dequeue() == 10\n",
    "assert mq.dequeue() == 3"
   ]
  },
  {
   "cell_type": "markdown",
   "metadata": {},
   "source": [
    "**3.5 Sort Stack:** Write a program to sort a stack such that the smallest items are on the top. You can use an additional temporary stack, but you may not copy the elements into any other data structure (such as an array). The stack supports the following operations: `push`, `pop`, `peek` and `is_empty`."
   ]
  },
  {
   "cell_type": "code",
   "execution_count": 46,
   "metadata": {
    "collapsed": false
   },
   "outputs": [],
   "source": [
    "class Stack:\n",
    "    def __init__(self):\n",
    "        self.stack = []\n",
    "    \n",
    "    def push(self, value):\n",
    "        self.stack.append(value)\n",
    "    \n",
    "    def pop(self):\n",
    "        assert not self.is_empty(), \"[Stack.pop] empty stack\"\n",
    "        return self.stack.pop()\n",
    "    \n",
    "    def peek(self):\n",
    "        assert not self.is_empty(), \"[Stack.pop] empty stack\"\n",
    "        return self.stack[-1]\n",
    "    \n",
    "    def is_empty(self):\n",
    "        return len(self.stack) == 0\n",
    "    \n",
    "    def __str__(self):\n",
    "        return str(self.stack)"
   ]
  },
  {
   "cell_type": "code",
   "execution_count": 59,
   "metadata": {
    "collapsed": true
   },
   "outputs": [],
   "source": [
    "def sort_stack(s):\n",
    "    temp = Stack()\n",
    "    while not s.is_empty():\n",
    "        val = s.pop()\n",
    "        if temp.is_empty():\n",
    "            temp.push(val)\n",
    "        else:\n",
    "            count = 0\n",
    "            while not temp.is_empty() and temp.peek() < val:\n",
    "                s.push(temp.pop())\n",
    "            \n",
    "            temp.push(val)\n",
    "            \n",
    "            for _ in range(count):\n",
    "                temp.push(s.pop())\n",
    "    s.stack = temp.stack"
   ]
  },
  {
   "cell_type": "code",
   "execution_count": 60,
   "metadata": {
    "collapsed": false
   },
   "outputs": [],
   "source": [
    "s = Stack()\n",
    "s.push(10)\n",
    "s.push(20)\n",
    "s.push(15)\n",
    "\n",
    "sort_stack(s)\n",
    "assert s.pop() == 10\n",
    "assert s.pop() == 15\n",
    "assert s.pop() == 20"
   ]
  },
  {
   "cell_type": "markdown",
   "metadata": {},
   "source": [
    "3.6 Animal Shelter"
   ]
  },
  {
   "cell_type": "code",
   "execution_count": null,
   "metadata": {
    "collapsed": true
   },
   "outputs": [],
   "source": []
  }
 ],
 "metadata": {
  "kernelspec": {
   "display_name": "Python 2",
   "language": "python",
   "name": "python2"
  },
  "language_info": {
   "codemirror_mode": {
    "name": "ipython",
    "version": 2
   },
   "file_extension": ".py",
   "mimetype": "text/x-python",
   "name": "python",
   "nbconvert_exporter": "python",
   "pygments_lexer": "ipython2",
   "version": "2.7.10"
  }
 },
 "nbformat": 4,
 "nbformat_minor": 0
}
