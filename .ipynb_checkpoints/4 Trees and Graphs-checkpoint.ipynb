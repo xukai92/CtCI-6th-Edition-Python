{
 "cells": [
  {
   "cell_type": "code",
   "execution_count": 157,
   "metadata": {
    "collapsed": true
   },
   "outputs": [],
   "source": [
    "class Node:\n",
    "    def __init__(self, name, children=None):\n",
    "        self.name = name\n",
    "        if children:\n",
    "            self.children = children\n",
    "        else:\n",
    "            self.children = list()\n",
    "\n",
    "class Graph:\n",
    "    def __init__(self, root=None):\n",
    "        self.root = root"
   ]
  },
  {
   "cell_type": "markdown",
   "metadata": {},
   "source": [
    "**4.1 Route Between Nodes:** Given a directed graph, design an algorithm to find out whether there is a route between two nodes."
   ]
  },
  {
   "cell_type": "code",
   "execution_count": 164,
   "metadata": {
    "collapsed": true
   },
   "outputs": [],
   "source": [
    "def BFS(visit, visited=set([]), fun=None):\n",
    "    visiting_queue = []\n",
    "    visiting_queue.append(visit)\n",
    "    \n",
    "    while len(visiting_queue) > 0:\n",
    "        visit = visiting_queue.pop(0)\n",
    "        visiting_queue += visit.children\n",
    "        \n",
    "        if fun:\n",
    "            fun(visit)\n",
    "        visited.add(visit)\n",
    "\n",
    "def DFS(visit, visited=set([]), fun=None):\n",
    "    if fun:\n",
    "        fun(visit)\n",
    "    visited.add(visit)\n",
    "    \n",
    "    for child in visit.children:\n",
    "        DFS(child, visited, fun=fun)\n",
    "\n",
    "def route_from_to(n1, n2, method=\"BFS\", fun=None):\n",
    "    assert method in set([\"BFS\", \"DFS\"]), \"[route_from_to] unkown method name\"\n",
    "    \n",
    "    visited=set([])\n",
    "    if method == \"BFS\":\n",
    "        BFS(n1, visited, fun=fun)\n",
    "    else:\n",
    "        DFS(n1, visited, fun=fun)\n",
    "    \n",
    "    return n2 in visited"
   ]
  },
  {
   "cell_type": "code",
   "execution_count": 166,
   "metadata": {
    "collapsed": false
   },
   "outputs": [],
   "source": [
    "# 1 -> 2 -> 3\n",
    "#  \\-> 4\n",
    "#       \\-> 5\n",
    "n1 = Node(1)\n",
    "n2 = Node(2)\n",
    "n3 = Node(3)\n",
    "n4 = Node(4)\n",
    "n5 = Node(5)\n",
    "n1.children = [n2, n4]\n",
    "n2.children = [n3]\n",
    "n4.children = [n5]\n",
    "\n",
    "assert route_from_to(n1, n5, method=\"BFS\") == True\n",
    "assert route_from_to(n4, n3, method=\"DFS\") == False"
   ]
  },
  {
   "cell_type": "markdown",
   "metadata": {},
   "source": [
    "**4.2 Minimal Tree:** Given a sorted (increasing order) array with integer elements, write an algorithm to create a binary search tree with minimal height."
   ]
  },
  {
   "cell_type": "code",
   "execution_count": 160,
   "metadata": {
    "collapsed": true
   },
   "outputs": [],
   "source": [
    "def minimal_tree(arr):\n",
    "    def split(start, end):\n",
    "        mid = (end - start) / 2 + start\n",
    "        root = Node(arr[mid])\n",
    "        if mid - 1 >= start:\n",
    "            root.children.append(split(start, mid - 1))\n",
    "        if mid + 1 <= end:\n",
    "            root.children.append(split(mid + 1, end))\n",
    "        \n",
    "        return root\n",
    "    return split(0, len(arr) - 1)"
   ]
  },
  {
   "cell_type": "code",
   "execution_count": 161,
   "metadata": {
    "collapsed": false
   },
   "outputs": [],
   "source": [
    "root = minimal_tree([1,2,3,4,5,6,7])\n",
    "assert root.name == 4\n",
    "assert map(lambda n : n.name, root.children) == [2, 6]"
   ]
  },
  {
   "cell_type": "markdown",
   "metadata": {},
   "source": [
    "**4.3 List of Depths:** Given a binary tree, design an algorithm which creates a linked list of all the nodes at each depth (e.g., if you have a tree with depth D, you'll have D linked list)."
   ]
  },
  {
   "cell_type": "code",
   "execution_count": 169,
   "metadata": {
    "collapsed": true
   },
   "outputs": [],
   "source": [
    "def list_of_depths(graph):\n",
    "    lod = []\n",
    "    visiting_q = []\n",
    "    visiting_q.append((graph.root, 1))\n",
    "    \n",
    "    while len(visiting_q) > 0:\n",
    "        visit, depth = visiting_q.pop(0)\n",
    "        if len(lod) < depth:\n",
    "            lod.append([visit])\n",
    "        else:\n",
    "            lod[depth - 1].append(visit)\n",
    "        for child in visit.children:\n",
    "            visiting_q.append((child, depth + 1))\n",
    "        \n",
    "    return lod"
   ]
  },
  {
   "cell_type": "code",
   "execution_count": 174,
   "metadata": {
    "collapsed": false
   },
   "outputs": [],
   "source": [
    "# 1 -> 2 -> 3\n",
    "#  \\-> 4 -> 5\n",
    "#       \\-> 6\n",
    "n1 = Node(1)\n",
    "n2 = Node(2)\n",
    "n3 = Node(3)\n",
    "n4 = Node(4)\n",
    "n5 = Node(5)\n",
    "n6 = Node(6)\n",
    "n1.children = [n2, n4]\n",
    "n2.children = [n3]\n",
    "n4.children = [n5, n6]\n",
    "graph = Graph(n1)\n",
    "\n",
    "assert list_of_depths(graph)[0] == [n1]\n",
    "assert list_of_depths(graph)[1] == [n2, n4]\n",
    "assert list_of_depths(graph)[2] == [n3, n5, n6]"
   ]
  },
  {
   "cell_type": "markdown",
   "metadata": {},
   "source": [
    "4.4 Check Balanced"
   ]
  },
  {
   "cell_type": "markdown",
   "metadata": {},
   "source": [
    "4.5 Validate BST"
   ]
  },
  {
   "cell_type": "markdown",
   "metadata": {},
   "source": [
    "4.6 Successor"
   ]
  },
  {
   "cell_type": "markdown",
   "metadata": {},
   "source": [
    "4.7 Build Order"
   ]
  },
  {
   "cell_type": "markdown",
   "metadata": {},
   "source": [
    "4.8 First Common Ancestor"
   ]
  },
  {
   "cell_type": "markdown",
   "metadata": {},
   "source": [
    "4.9 BST Sequence"
   ]
  },
  {
   "cell_type": "markdown",
   "metadata": {},
   "source": [
    "4.10 CHeck Subtree"
   ]
  },
  {
   "cell_type": "markdown",
   "metadata": {},
   "source": [
    "4.11 Random Node"
   ]
  },
  {
   "cell_type": "markdown",
   "metadata": {},
   "source": [
    "4.12 Paths with Sum"
   ]
  },
  {
   "cell_type": "code",
   "execution_count": null,
   "metadata": {
    "collapsed": true
   },
   "outputs": [],
   "source": []
  }
 ],
 "metadata": {
  "kernelspec": {
   "display_name": "Python 2",
   "language": "python",
   "name": "python2"
  },
  "language_info": {
   "codemirror_mode": {
    "name": "ipython",
    "version": 2
   },
   "file_extension": ".py",
   "mimetype": "text/x-python",
   "name": "python",
   "nbconvert_exporter": "python",
   "pygments_lexer": "ipython2",
   "version": "2.7.10"
  }
 },
 "nbformat": 4,
 "nbformat_minor": 0
}
